{
 "cells": [
  {
   "cell_type": "markdown",
   "metadata": {
    "pycharm": {
     "name": "#%% md\n"
    }
   },
   "source": [
    "# Exercise 3: Reading and Writing NetCDF files with Python\n",
    "\n",
    "## Aim: Introduce the netCDF4 library in Python to read and create NetCDF4 files.\n",
    "\n",
    "### Issues covered:\n",
    "\n",
    "- Importing netCDF4\n",
    "- Reading a NetCDF file as a Dataset instance\n",
    "- Accessing Dimensions, Variables, and Attributes\n",
    "- Defining Dimensions, Variables, and Attributes\n",
    "- Writing a NetCDF file as a Dataset\n",
    "\n",
    "## Let's work with the netCDF4 library to examine the contents of a data file.\n",
    "\n",
    "Import the `netCDF4` library"
   ]
  },
  {
   "cell_type": "code",
   "execution_count": 104,
   "metadata": {
    "collapsed": false,
    "jupyter": {
     "outputs_hidden": false
    },
    "pycharm": {
     "name": "#%%\n"
    }
   },
   "outputs": [],
   "source": [
    "import netCDF4\n",
    "from netCDF4 import Dataset as ncfile\n",
    "import numpy as np"
   ]
  },
  {
   "attachments": {},
   "cell_type": "markdown",
   "metadata": {},
   "source": [
    "Open the file \"../example_data/ggas2014121200_00-18.nc\" with the netCDF4 `Dataset` method,\n",
    "assign it to the `ds` variable."
   ]
  },
  {
   "cell_type": "code",
   "execution_count": 19,
   "metadata": {
    "collapsed": false,
    "jupyter": {
     "outputs_hidden": false
    },
    "pycharm": {
     "name": "#%%\n"
    }
   },
   "outputs": [],
   "source": [
    "ds = ncfile('../example_data/ggas2014121200_00-18.nc')"
   ]
  },
  {
   "cell_type": "markdown",
   "metadata": {},
   "source": [
    "Loop through and print Dataset `variables` names, this is the ID that act like the key to access the Variable."
   ]
  },
  {
   "cell_type": "code",
   "execution_count": 36,
   "metadata": {
    "collapsed": false,
    "jupyter": {
     "outputs_hidden": false
    },
    "pycharm": {
     "name": "#%%\n"
    }
   },
   "outputs": [
    {
     "name": "stdout",
     "output_type": "stream",
     "text": [
      "['longitude', 'latitude', 'surface', 'time', 'CI', 'SSTK', 'MSL', 'TCC', 'U10', 'V10', 'SKT']\n"
     ]
    },
    {
     "data": {
      "text/plain": [
       "['longitude',\n",
       " 'latitude',\n",
       " 'surface',\n",
       " 'time',\n",
       " 'CI',\n",
       " 'SSTK',\n",
       " 'MSL',\n",
       " 'TCC',\n",
       " 'U10',\n",
       " 'V10',\n",
       " 'SKT']"
      ]
     },
     "execution_count": 36,
     "metadata": {},
     "output_type": "execute_result"
    }
   ],
   "source": [
    "print(list(ds.variables.keys()))\n",
    "[x for x in ds.variables]"
   ]
  },
  {
   "cell_type": "markdown",
   "metadata": {
    "pycharm": {
     "name": "#%% md\n"
    }
   },
   "source": [
    "From the Dataset `variables`, assign the key `SSTK` to the `sst` variable.\n",
    "Access the `SSTK` variable like you would a dictionary from `ds.variables`.\n",
    "\n",
    "- Print the `shape` and `size` of the `sst` variable\n",
    "- Loop through the `dimensions` of `sst` and print the dimension name and length.\n",
    "- Loop through the NetCDF attributes of `sst` and print the name and value.\n",
    "(use `sst.ncattrs()` to access the attributes and `getattr(sst, {attribute name})` to get the value)"
   ]
  },
  {
   "cell_type": "code",
   "execution_count": 58,
   "metadata": {
    "collapsed": false,
    "jupyter": {
     "outputs_hidden": false
    },
    "pycharm": {
     "name": "#%%\n"
    }
   },
   "outputs": [
    {
     "name": "stdout",
     "output_type": "stream",
     "text": [
      "(4, 1, 256, 512)\n",
      "524288\n",
      "longitude\n",
      "length = 512\n",
      "latitude\n",
      "length = 256\n",
      "surface\n",
      "length = 1\n",
      "time\n",
      "length = 4\n"
     ]
    }
   ],
   "source": [
    "sst = ds.variables[\"SSTK\"]\n",
    "\n",
    "print(sst.shape)\n",
    "print(sst.size)\n",
    "\n",
    "#looping through the dimensions of sst and printing name and length\n",
    "dimensions = list(ds.dimensions.keys())\n",
    "for x in dimensions:\n",
    "    print(x)\n",
    "    print(\"length =\", ds.dimensions[x].size)"
   ]
  },
  {
   "cell_type": "code",
   "execution_count": 59,
   "metadata": {},
   "outputs": [
    {
     "name": "stdout",
     "output_type": "stream",
     "text": [
      "long_name = Sea surface temperature\n",
      "units = K\n",
      "grid_type = gaussian\n",
      "_FillValue = 2e+20\n",
      "source = GRIB data\n",
      "name = SSTK\n",
      "title = Sea surface temperature\n",
      "date = 12/12/14\n",
      "time = 00:00\n"
     ]
    }
   ],
   "source": [
    "#looping through the attributes and printing name and value\n",
    "for attr in sst.ncattrs():\n",
    "    print(attr, '=', getattr(sst, attr))"
   ]
  },
  {
   "cell_type": "markdown",
   "metadata": {},
   "source": [
    "## Let's extract some data and its related coordinate information and metadata.\n",
    "\n",
    "Using the `sst` variable from before, take a slice of `sst` as follows and assign it the variable `arr`:\n",
    "\n",
    "```python\n",
    "sst[1, 0, 10:20, 30:35]\n",
    "```\n",
    "\n",
    "- Print what type of object `arr` is"
   ]
  },
  {
   "cell_type": "code",
   "execution_count": 91,
   "metadata": {
    "collapsed": false,
    "jupyter": {
     "outputs_hidden": false
    },
    "pycharm": {
     "name": "#%%\n"
    }
   },
   "outputs": [
    {
     "name": "stdout",
     "output_type": "stream",
     "text": [
      "[[271.459716796875 271.459716796875 271.459716796875 271.459716796875\n",
      "  271.459716796875]\n",
      " [271.459716796875 271.459716796875 271.459716796875 271.459716796875\n",
      "  271.459716796875]\n",
      " [271.498046875 271.48876953125 271.4794921875 271.47021484375\n",
      "  271.4609375]\n",
      " [270.8381042480469 270.7830505371094 270.9228515625 271.0626525878906\n",
      "  271.20245361328125]\n",
      " [-- -- -- -- 271.459716796875]\n",
      " [271.459716796875 271.459716796875 271.459716796875 271.459716796875\n",
      "  271.459716796875]\n",
      " [271.459716796875 271.459716796875 271.459716796875 271.459716796875\n",
      "  271.459716796875]\n",
      " [271.459716796875 271.459716796875 271.459716796875 271.459716796875\n",
      "  271.459716796875]\n",
      " [272.540771484375 272.000244140625 271.459716796875 271.459716796875\n",
      "  271.459716796875]\n",
      " [274.676025390625 274.25634765625 273.836669921875 273.1882019042969\n",
      "  272.53973388671875]]\n"
     ]
    }
   ],
   "source": [
    "arr = sst[1, 0, 10:20, 30:35]\n",
    "\n",
    "print(arr)"
   ]
  },
  {
   "cell_type": "markdown",
   "metadata": {
    "pycharm": {
     "name": "#%% md\n"
    }
   },
   "source": [
    "Assign and print the list of `dimensions` from `sst` to the variable `dims`.\n",
    "Assign the `variables` dictionary of the Dataset, `ds`, to the variables `vars`"
   ]
  },
  {
   "cell_type": "code",
   "execution_count": 70,
   "metadata": {
    "collapsed": false,
    "jupyter": {
     "outputs_hidden": false
    },
    "pycharm": {
     "name": "#%%\n"
    }
   },
   "outputs": [],
   "source": [
    "dims = sst.dimensions\n",
    "\n",
    "vars = ds.variables"
   ]
  },
  {
   "cell_type": "code",
   "execution_count": 76,
   "metadata": {},
   "outputs": [
    {
     "name": "stdout",
     "output_type": "stream",
     "text": [
      "('time', 'surface', 'latitude', 'longitude')\n"
     ]
    }
   ],
   "source": [
    "print(dims)"
   ]
  },
  {
   "cell_type": "markdown",
   "metadata": {
    "pycharm": {
     "name": "#%% md\n"
    }
   },
   "source": [
    "Now extract the slices from each Dataset variable in `vars` matching those in `arr`\n",
    "(i.e. matching the values in slice `[1, 0, 10:20, 30:35]` to the values in list `dims`).\n",
    "\n",
    "Assign them to the following variables:\n",
    "\n",
    "- Assign `time` slice to `arr_time`\n",
    "- Assign `surface` slice to `arr_level`\n",
    "- Assign `latitude` slice to `arr_lats`\n",
    "- Assign `longitude` slice to `arr_lons`\n",
    "\n",
    "Print the four new variables."
   ]
  },
  {
   "cell_type": "code",
   "execution_count": 92,
   "metadata": {
    "collapsed": false,
    "jupyter": {
     "outputs_hidden": false
    },
    "pycharm": {
     "name": "#%%\n"
    }
   },
   "outputs": [],
   "source": [
    "arr_time = vars[dims[0]][1]\n",
    "arr_level = vars[dims[1]][0]\n",
    "arr_lats = vars[dims[2]][10:20]\n",
    "arr_lons = vars[dims[3]][30:35]"
   ]
  },
  {
   "cell_type": "markdown",
   "metadata": {},
   "source": [
    "Create an empty dictionary called `metadata`, Loop through the NetCDF Variable attributes of `sst` and copy them into this new dictionary.\n",
    "Use the method as before to get name and value from `sst` and assign them to the key and value of the dictionary.\n",
    "\n",
    "Print the dictionary."
   ]
  },
  {
   "cell_type": "code",
   "execution_count": 88,
   "metadata": {
    "collapsed": false,
    "jupyter": {
     "outputs_hidden": false
    },
    "pycharm": {
     "name": "#%%\n"
    }
   },
   "outputs": [
    {
     "name": "stdout",
     "output_type": "stream",
     "text": [
      "{'long_name': 'Sea surface temperature', 'units': 'K', 'grid_type': 'gaussian', '_FillValue': 2e+20, 'source': 'GRIB data', 'name': 'SSTK', 'title': 'Sea surface temperature', 'date': '12/12/14', 'time': '00:00'}\n"
     ]
    }
   ],
   "source": [
    "metadata = dict()\n",
    "\n",
    "for attr in sst.ncattrs():\n",
    "    metadata[attr] = getattr(sst, attr)\n",
    "\n",
    "print(metadata)\n"
   ]
  },
  {
   "cell_type": "markdown",
   "metadata": {},
   "source": [
    "## Let's write the data/metadata from the previous section to a new NetCDF file\n",
    "\n",
    "In this section, we will define our own Variables, Dimensions, Attributes and save them as a NetCDF file.\n",
    "\n",
    "To start, import numpy as np."
   ]
  },
  {
   "cell_type": "code",
   "execution_count": null,
   "metadata": {
    "collapsed": false,
    "jupyter": {
     "outputs_hidden": false
    },
    "pycharm": {
     "name": "#%%\n"
    }
   },
   "outputs": [],
   "source": [
    "import numpy as np"
   ]
  },
  {
   "cell_type": "markdown",
   "metadata": {},
   "source": [
    "Open a new netCDF `Dataset` for writing to a file: \"mydata.nc\", specify the `mode` as write with \"w\" and the `format` as \"NETCDF4_CLASSIC\"\n",
    "Assign this to the variable `myds`"
   ]
  },
  {
   "cell_type": "code",
   "execution_count": 101,
   "metadata": {
    "collapsed": false,
    "jupyter": {
     "outputs_hidden": false
    },
    "pycharm": {
     "name": "#%%\n"
    }
   },
   "outputs": [],
   "source": [
    "myds = ncfile(\"mydata.nc\", mode = \"w\", format = \"NETCDF4_CLASSIC\")"
   ]
  },
  {
   "cell_type": "markdown",
   "metadata": {},
   "source": [
    "Create four new Dimensions to `myds` from your previous slices. Re-use the names from the last section.\n",
    "Note that the \"level\" and \"time\" Dimensions should have length, \"lat\" length 10 and \"lon\" length 5.\n",
    "To create a new Dimension use `myds.createDimension(name, size)`"
   ]
  },
  {
   "cell_type": "code",
   "execution_count": 102,
   "metadata": {
    "collapsed": false,
    "jupyter": {
     "outputs_hidden": false
    },
    "pycharm": {
     "name": "#%%\n"
    }
   },
   "outputs": [],
   "source": [
    "time = myds.createDimension(\"time\", 1)\n",
    "level = myds.createDimension(\"level\", 1)\n",
    "lat = myds.createDimension(\"lat\", 10)\n",
    "lon = myds.createDimension(\"lon\", 5)"
   ]
  },
  {
   "cell_type": "markdown",
   "metadata": {},
   "source": [
    "Create four Variables from those dimensions and assign them following this example for times:\n",
    "\n",
    "```python\n",
    "times = myds.createVariable('times', np.float64, ('time',))\n",
    "```"
   ]
  },
  {
   "cell_type": "code",
   "execution_count": 105,
   "metadata": {
    "collapsed": false,
    "jupyter": {
     "outputs_hidden": false
    },
    "pycharm": {
     "name": "#%%\n"
    }
   },
   "outputs": [],
   "source": [
    "times = myds.createVariable('times', np.float64, ('time',))\n",
    "levels = myds.createVariable('levels', np.float64, ('level',))\n",
    "lats = myds.createVariable('lats', np.float64, ('lat',))\n",
    "lons = myds.createVariable('lons', np.float64, ('lon',))"
   ]
  },
  {
   "cell_type": "markdown",
   "metadata": {},
   "source": [
    "Create `myvar` as a new Dataset Variable, with id \"temp\", type \"np.float64\", and dimensions: \"time\", \"level\", \"lat\", \"lon\"."
   ]
  },
  {
   "cell_type": "code",
   "execution_count": 106,
   "metadata": {
    "collapsed": false,
    "jupyter": {
     "outputs_hidden": false
    },
    "pycharm": {
     "name": "#%%\n"
    }
   },
   "outputs": [],
   "source": [
    "myvar = myds.createVariable('temp', np.float64, (\"time\", \"level\", \"lat\", \"lon\"))"
   ]
  },
  {
   "cell_type": "markdown",
   "metadata": {},
   "source": [
    "Remove the `_FillValue` value in the `metadata` dictionary.\n",
    "The next step will not work unless we do this.\n",
    "Fill values should be handled when the Variable is created, but we are ignoring that for this example.\n",
    "\n",
    "Use `del` to remove the `_FillValue` from `metadata`"
   ]
  },
  {
   "cell_type": "code",
   "execution_count": 110,
   "metadata": {
    "collapsed": false,
    "jupyter": {
     "outputs_hidden": false
    },
    "pycharm": {
     "name": "#%%\n"
    }
   },
   "outputs": [
    {
     "name": "stdout",
     "output_type": "stream",
     "text": [
      "{'long_name': 'Sea surface temperature', 'units': 'K', 'grid_type': 'gaussian', 'source': 'GRIB data', 'name': 'SSTK', 'title': 'Sea surface temperature', 'date': '12/12/14', 'time': '00:00'}\n"
     ]
    }
   ],
   "source": [
    "#metadata.pop(\"_FillValue\")\n",
    "print(metadata)"
   ]
  },
  {
   "cell_type": "markdown",
   "metadata": {
    "pycharm": {
     "name": "#%% md\n"
    }
   },
   "source": [
    "Write Variable attributes from the key/value pairs found in the input data (held in the `metadata` dictionary) to `myvar`.\n",
    "Use `myvar.setncattr(key, value)` to write attributes to the Dataset.\n",
    "\n",
    "Write one more global attribute \"source\" to `myds`. Set the attribute `source` to the value \"super dataset\".\n",
    "Use `myds.source` to create and set the value to the global attribute."
   ]
  },
  {
   "cell_type": "code",
   "execution_count": 111,
   "metadata": {
    "collapsed": false,
    "jupyter": {
     "outputs_hidden": false
    },
    "pycharm": {
     "name": "#%%\n"
    }
   },
   "outputs": [],
   "source": [
    "\n",
    "for (key, value) in metadata.items():\n",
    "    myvar.setncattr(key, value)\n",
    "\n",
    "myds.source = \"super dataset\"\n"
   ]
  },
  {
   "cell_type": "markdown",
   "metadata": {
    "pycharm": {
     "name": "#%% md\n"
    }
   },
   "source": [
    "Assign the `arr` array from before to `myvar[:]`\n",
    "\n",
    "Write some data values to each of your four spatio-temporal variables you created.\n",
    "Use simple lists of integers for these.\n",
    "Make sure they are the right length matching the slices from the previous section,\n",
    "use the index `[:]` on your `myds` Variables and assign the created array variables to them.\n",
    "\n",
    "Lastly close the Dataset, `myds`, to save the file."
   ]
  },
  {
   "cell_type": "code",
   "execution_count": 112,
   "metadata": {
    "collapsed": false,
    "jupyter": {
     "outputs_hidden": false
    },
    "pycharm": {
     "name": "#%%\n"
    }
   },
   "outputs": [],
   "source": [
    "myvar[:] = arr\n",
    "\n",
    "times[:] = arr_time\n",
    "levels[:] = arr_level\n",
    "lats[:] = arr_lats\n",
    "lons[:] = arr_lons\n",
    "\n",
    "myds.close()\n",
    "\n"
   ]
  },
  {
   "cell_type": "markdown",
   "metadata": {},
   "source": [
    "To view the file contents, you can use the Jasmin service to run the `$ ncdump mydata.nc` command from the directory where the file is saved. Alternatively, you can call out to the linux shell from a Notebook, using: \n",
    "\n",
    "```\n",
    "!ncdump mydata.nc\n",
    "```"
   ]
  },
  {
   "cell_type": "code",
   "execution_count": 113,
   "metadata": {},
   "outputs": [
    {
     "name": "stdout",
     "output_type": "stream",
     "text": [
      "netcdf mydata {\n",
      "dimensions:\n",
      "\ttime = 1 ;\n",
      "\tlevel = 1 ;\n",
      "\tlat = 10 ;\n",
      "\tlon = 5 ;\n",
      "variables:\n",
      "\tdouble times(time) ;\n",
      "\tdouble levels(level) ;\n",
      "\tdouble lats(lat) ;\n",
      "\tdouble lons(lon) ;\n",
      "\tdouble temp(time, level, lat, lon) ;\n",
      "\t\ttemp:long_name = \"Sea surface temperature\" ;\n",
      "\t\ttemp:units = \"K\" ;\n",
      "\t\ttemp:grid_type = \"gaussian\" ;\n",
      "\t\ttemp:source = \"GRIB data\" ;\n",
      "\t\ttemp:name = \"SSTK\" ;\n",
      "\t\ttemp:title = \"Sea surface temperature\" ;\n",
      "\t\ttemp:date = \"12/12/14\" ;\n",
      "\t\ttemp:time = \"00:00\" ;\n",
      "\n",
      "// global attributes:\n",
      "\t\t:source = \"super dataset\" ;\n",
      "data:\n",
      "\n",
      " times = 0.25 ;\n",
      "\n",
      " levels = 0 ;\n",
      "\n",
      " lats = 82.455322265625, 81.7536315917969, 81.0519409179688, \n",
      "    80.3502349853516, 79.6485290527344, 78.9468078613281, 78.2450942993164, \n",
      "    77.5433654785156, 76.8416366577148, 76.1399078369141 ;\n",
      "\n",
      " lons = 21.09375, 21.796875, 22.5, 23.203125, 23.90625 ;\n",
      "\n",
      " temp =\n",
      "  271.459716796875, 271.459716796875, 271.459716796875, 271.459716796875, \n",
      "    271.459716796875,\n",
      "  271.459716796875, 271.459716796875, 271.459716796875, 271.459716796875, \n",
      "    271.459716796875,\n",
      "  271.498046875, 271.48876953125, 271.4794921875, 271.47021484375, 271.4609375,\n",
      "  270.838104248047, 270.783050537109, 270.9228515625, 271.062652587891, \n",
      "    271.202453613281,\n",
      "  _, _, _, _, 271.459716796875,\n",
      "  271.459716796875, 271.459716796875, 271.459716796875, 271.459716796875, \n",
      "    271.459716796875,\n",
      "  271.459716796875, 271.459716796875, 271.459716796875, 271.459716796875, \n",
      "    271.459716796875,\n",
      "  271.459716796875, 271.459716796875, 271.459716796875, 271.459716796875, \n",
      "    271.459716796875,\n",
      "  272.540771484375, 272.000244140625, 271.459716796875, 271.459716796875, \n",
      "    271.459716796875,\n",
      "  274.676025390625, 274.25634765625, 273.836669921875, 273.188201904297, \n",
      "    272.539733886719 ;\n",
      "}\n"
     ]
    }
   ],
   "source": [
    "!ncdump mydata.nc"
   ]
  },
  {
   "cell_type": "code",
   "execution_count": null,
   "metadata": {},
   "outputs": [],
   "source": []
  }
 ],
 "metadata": {
  "kernelspec": {
   "display_name": "Python 3 + Jaspy",
   "language": "python",
   "name": "jaspy"
  },
  "language_info": {
   "codemirror_mode": {
    "name": "ipython",
    "version": 3
   },
   "file_extension": ".py",
   "mimetype": "text/x-python",
   "name": "python",
   "nbconvert_exporter": "python",
   "pygments_lexer": "ipython3",
   "version": "3.10.5"
  }
 },
 "nbformat": 4,
 "nbformat_minor": 4
}
