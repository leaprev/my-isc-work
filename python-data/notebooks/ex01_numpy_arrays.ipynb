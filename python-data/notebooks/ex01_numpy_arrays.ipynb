{
 "cells": [
  {
   "cell_type": "markdown",
   "metadata": {
    "collapsed": true,
    "jupyter": {
     "outputs_hidden": true
    },
    "pycharm": {
     "name": "#%% md\n"
    },
    "tags": []
   },
   "source": [
    "# Exercise 1: NumPy Arrays\n",
    "\n",
    "## 1. Introduction to NumPy arrays\n",
    "\n",
    "### Aim: Introduce the basic NumPy array creation and indexing\n",
    "\n",
    "Issues covered:\n",
    "\n",
    "- Importing NumPy\n",
    "- Creating an array from a list\n",
    "- Creating arrays of zeroes or ones\n",
    "- Understanding array type codes\n",
    "- Array indexing and slicing\n",
    "\n",
    "Import the `numpy` library as `np`"
   ]
  },
  {
   "cell_type": "code",
   "execution_count": 1,
   "metadata": {
    "pycharm": {
     "name": "#%%\n"
    },
    "tags": []
   },
   "outputs": [],
   "source": [
    "import numpy as np"
   ]
  },
  {
   "cell_type": "markdown",
   "metadata": {
    "collapsed": false,
    "jupyter": {
     "outputs_hidden": false
    }
   },
   "source": [
    "### Let's create a numpy array from a list.\n",
    "\n",
    "Create a with values 1 to 10 and assign it to the variable `x`"
   ]
  },
  {
   "cell_type": "code",
   "execution_count": 32,
   "metadata": {
    "pycharm": {
     "name": "#%%\n"
    }
   },
   "outputs": [
    {
     "name": "stdout",
     "output_type": "stream",
     "text": [
      "[ 0  1  2  3  4  5  6  7  8  9 10]\n"
     ]
    }
   ],
   "source": [
    "x = np.array(np.arange(0, 11))\n",
    "print(x)"
   ]
  },
  {
   "cell_type": "markdown",
   "metadata": {
    "collapsed": false,
    "jupyter": {
     "outputs_hidden": false
    }
   },
   "source": [
    "Create a numpy integer array using `x` and print its `dtype`"
   ]
  },
  {
   "cell_type": "code",
   "execution_count": 29,
   "metadata": {
    "collapsed": false,
    "jupyter": {
     "outputs_hidden": false
    },
    "pycharm": {
     "name": "#%%\n"
    }
   },
   "outputs": [
    {
     "name": "stdout",
     "output_type": "stream",
     "text": [
      "int32\n"
     ]
    }
   ],
   "source": [
    "x = np.array([1, 2, 3, 4, 5, 6, 7, 8, 9, 10], dtype=np.int32)\n",
    "print(x.dtype)"
   ]
  },
  {
   "cell_type": "markdown",
   "metadata": {
    "collapsed": false,
    "jupyter": {
     "outputs_hidden": false
    },
    "pycharm": {
     "name": "#%% md\n"
    }
   },
   "source": [
    "Create a numpy float array using `x` and print its `dtype`"
   ]
  },
  {
   "cell_type": "code",
   "execution_count": 6,
   "metadata": {
    "collapsed": false,
    "jupyter": {
     "outputs_hidden": false
    },
    "pycharm": {
     "name": "#%%\n"
    }
   },
   "outputs": [
    {
     "name": "stdout",
     "output_type": "stream",
     "text": [
      "float64\n"
     ]
    }
   ],
   "source": [
    "x = np.array([[2, 3, -5], [21, -2, 1]], dtype =np.float64)\n",
    "print(x.dtype)"
   ]
  },
  {
   "cell_type": "markdown",
   "metadata": {
    "collapsed": false,
    "jupyter": {
     "outputs_hidden": false
    }
   },
   "source": [
    "### Let's create arrays in different way.\n",
    "\n",
    "- Create an array of shape (2, 3, 4) of zeros\n",
    "- Create an array of shape (2, 3, 4) of ones.\n",
    "- Create an array with values 0 to 999 using the `np.arange` function."
   ]
  },
  {
   "cell_type": "code",
   "execution_count": 13,
   "metadata": {
    "collapsed": false,
    "jupyter": {
     "outputs_hidden": false
    },
    "pycharm": {
     "name": "#%%\n"
    }
   },
   "outputs": [],
   "source": [
    "zeros = np.zeros((2, 3, 4))\n",
    "ones = np.ones((2, 3, 4))\n",
    "arr = np.arange(0, 999)"
   ]
  },
  {
   "cell_type": "markdown",
   "metadata": {
    "collapsed": false,
    "jupyter": {
     "outputs_hidden": false
    }
   },
   "source": [
    "### Let's look at indexing and slicing arrays.\n",
    "\n",
    "Create an array from the list `[2, 3.2, 5.5, -6.4, -2.2, 2.4]` and assign it to the variable `a`\n",
    "\n",
    "- Do you know what `a[1]` will equal? Print to see.\n",
    "- Try print `a[1:4]` to see what that equals."
   ]
  },
  {
   "cell_type": "code",
   "execution_count": 16,
   "metadata": {
    "collapsed": false,
    "jupyter": {
     "outputs_hidden": false
    },
    "pycharm": {
     "name": "#%%\n"
    }
   },
   "outputs": [
    {
     "data": {
      "text/plain": [
       "array([ 3.2,  5.5, -6.4])"
      ]
     },
     "execution_count": 16,
     "metadata": {},
     "output_type": "execute_result"
    }
   ],
   "source": [
    "a = np.array([2, 3.2, 5.5, -6.4, -2.2, 2.4])\n",
    "a[1:4]"
   ]
  },
  {
   "cell_type": "markdown",
   "metadata": {
    "collapsed": false,
    "jupyter": {
     "outputs_hidden": false
    }
   },
   "source": [
    "Create a 2-D array from the following list and assign it to the variable `a`:\n",
    "```python\n",
    "[\n",
    "    [2, 3.2, 5.5, -6.4, -2.2, 2.4],\n",
    "    [1, 22, 4, 0.1, 5.3, -9],\n",
    "    [3, 1, 2.1, 21, 1.1, -2]\n",
    "]\n",
    "```\n",
    "\n",
    "Can you guess what the following slices are equal to? Print them to check your understanding.\n",
    "\n",
    "- `a[:, 3]`\n",
    "- `a[1:4, 0:4]`\n",
    "- `a[1:, 2]`"
   ]
  },
  {
   "cell_type": "code",
   "execution_count": 18,
   "metadata": {
    "collapsed": false,
    "jupyter": {
     "outputs_hidden": false
    },
    "pycharm": {
     "name": "#%%\n"
    }
   },
   "outputs": [
    {
     "data": {
      "text/plain": [
       "array([-6.4,  0.1, 21. ])"
      ]
     },
     "execution_count": 18,
     "metadata": {},
     "output_type": "execute_result"
    }
   ],
   "source": [
    "a = np.array([\n",
    "    [2, 3.2, 5.5, -6.4, -2.2, 2.4],\n",
    "    [1, 22, 4, 0.1, 5.3, -9],\n",
    "    [3, 1, 2.1, 21, 1.1, -2]\n",
    "])"
   ]
  },
  {
   "cell_type": "markdown",
   "metadata": {
    "collapsed": false,
    "jupyter": {
     "outputs_hidden": false
    }
   },
   "source": [
    "## 2. Interrogating and manipulating arrays\n",
    "\n",
    "### Aim: Learn how to interrogate and manipulate NumPy Arrays\n",
    "\n",
    "Issues covered:\n",
    "\n",
    "- Interrogating the properties of an array\n",
    "- Manipulating arrays to change their properties\n",
    "\n",
    "### Let's interrogate an array to find out it's characteristics\n",
    "\n",
    "Create a 2-D array of shape (2, 4) containing two lists `range(4)` and `range(10, 14)`, assign it to the vairable `arr`\n",
    "\n",
    "- Print the shape of the array\n",
    "- Print the size of the array\n",
    "- Print and maximum and minimum of the array"
   ]
  },
  {
   "cell_type": "code",
   "execution_count": 37,
   "metadata": {
    "collapsed": false,
    "jupyter": {
     "outputs_hidden": false
    },
    "pycharm": {
     "name": "#%%\n"
    }
   },
   "outputs": [
    {
     "name": "stdout",
     "output_type": "stream",
     "text": [
      "shape = (2, 4), size = 8, max = 13, min = 0\n"
     ]
    }
   ],
   "source": [
    "range4 = np.arange(4)\n",
    "range10_14 = np.arange(10, 14)\n",
    "\n",
    "arr = np.array([range4, range10_14])\n",
    "print(\"shape = {0}, size = {1}, max = {2}, min = {3}\".format(arr.shape, arr.size, np.max(arr), np.min(arr)))"
   ]
  },
  {
   "cell_type": "markdown",
   "metadata": {
    "collapsed": false,
    "jupyter": {
     "outputs_hidden": false
    }
   },
   "source": [
    "### Let's generate new arrays by modifying our array\n",
    "\n",
    "Continue to use the array, `arr`, as defined above\n",
    "\n",
    "- Print the array re-shaped to (2, 2, 2)\n",
    "- Print the array transposed\n",
    "- Print the array flattened to a single dimension\n",
    "- Print the array converted to floats"
   ]
  },
  {
   "cell_type": "code",
   "execution_count": 44,
   "metadata": {
    "collapsed": false,
    "jupyter": {
     "outputs_hidden": false
    },
    "pycharm": {
     "name": "#%%\n"
    }
   },
   "outputs": [
    {
     "name": "stdout",
     "output_type": "stream",
     "text": [
      "reshaped = \n",
      " [[[ 0  1]\n",
      "  [ 2  3]]\n",
      "\n",
      " [[10 11]\n",
      "  [12 13]]],\n",
      " transposed = \n",
      " [[ 0 10]\n",
      " [ 1 11]\n",
      " [ 2 12]\n",
      " [ 3 13]], \n",
      " flattened = \n",
      " [ 0  1  2  3 10 11 12 13], \n",
      " floats = \n",
      "[[ 0.  1.  2.  3.]\n",
      " [10. 11. 12. 13.]]\n"
     ]
    }
   ],
   "source": [
    "print(\"reshaped = \\n {0},\\n transposed = \\n {1}, \\n flattened = \\n {2}, \\n floats = \\n{3}\".format(np.reshape(arr, (2, 2, 2)), np.transpose(arr), np.ravel(arr), np.array(arr, dtype=np.float64)))"
   ]
  },
  {
   "cell_type": "markdown",
   "metadata": {
    "collapsed": false,
    "jupyter": {
     "outputs_hidden": false
    }
   },
   "source": [
    "## 3. Array calculation and operations\n",
    "\n",
    "### Aim: Use NumPy arrays in mathematical calculations\n",
    "\n",
    "Issues covered:\n",
    "\n",
    "- Mathematical operations with arrays\n",
    "- Mathematical operations mixing scalars and arrays\n",
    "- Comparison operators and Boolean operations on arrays\n",
    "- Using the `where` method\n",
    "- Writing a function to work on arrays\n",
    "\n",
    "### Let's perform some array calculations\n",
    "\n",
    "Create a 2-D array of shape (2, 4) containing two lists `range(4)` and `range(10, 14)`, assign it to the vairable `a`\n",
    "\n",
    "Create an array from a list `[2, -1, 1, 0]` and assign it to the variable `b`\n",
    "\n",
    "- Multiply array `a` by `b` and print the result. Do you understand how numpy has used its *broadcasting* feature to do the calculation even though the arrays are different shapes?\n",
    "- Multiply array `b` by 100 and assign the result to variable `b1` with `np.multiply`\n",
    "- Multiply array `b` by 100.0 and assign the result to the variable `b2` with `np.multiply`\n",
    "- Print the arrays `b1` and `b2`\n",
    "- Print `b1 == b2`, are they the same?\n",
    "- Why do they display differently? Interrogate the `dtype` of each array to find out why"
   ]
  },
  {
   "cell_type": "code",
   "execution_count": 53,
   "metadata": {
    "collapsed": false,
    "jupyter": {
     "outputs_hidden": false
    },
    "pycharm": {
     "name": "#%%\n"
    }
   },
   "outputs": [
    {
     "name": "stdout",
     "output_type": "stream",
     "text": [
      "a x b\n",
      "[[  0  -1   2   0]\n",
      " [ 20 -11  12   0]]\n",
      "b1\n",
      "[ 200 -100  100    0]\n",
      "b2\n",
      "[ 200. -100.  100.    0.]\n",
      "[ True  True  True  True]\n",
      "int64\n",
      "float64\n"
     ]
    }
   ],
   "source": [
    "a = arr\n",
    "b = np.array([2, -1, 1, 0])\n",
    "print(\"a x b\")\n",
    "print(a*b)\n",
    "\n",
    "b1 = np.multiply(b, 100)\n",
    "print(\"b1\")\n",
    "print(b1)\n",
    "\n",
    "b2 = np.multiply(b, 100.0)\n",
    "\n",
    "print(\"b2\")\n",
    "print(b2)\n",
    "print(b1 == b2)\n",
    "\n",
    "print(b1.dtype)\n",
    "print(b2.dtype)"
   ]
  },
  {
   "cell_type": "markdown",
   "metadata": {
    "collapsed": false,
    "jupyter": {
     "outputs_hidden": false
    }
   },
   "source": [
    "### Let's look at array comparisons\n",
    "\n",
    "Create an array of values 0 to 9 and assign it to the variable `arr`\n",
    "\n",
    "- Print two different way of expressing the condition where the array is less than 3.\n",
    "- Create a numpy condition where `arr` is less than 3 OR greater than 8.\n",
    "- Use the `where` function to create a new array where the value is `arr*5` if the above condition is `True` and `arr-5` where the condition is `False`"
   ]
  },
  {
   "cell_type": "code",
   "execution_count": 60,
   "metadata": {
    "collapsed": false,
    "jupyter": {
     "outputs_hidden": false
    },
    "pycharm": {
     "name": "#%%\n"
    }
   },
   "outputs": [
    {
     "name": "stdout",
     "output_type": "stream",
     "text": [
      "[ True  True  True False False False False False False False] [ True  True  True False False False False False False False]\n",
      "[False False False False False False False False False False]\n",
      "[-5 -4 -3 -2 -1  0  1  2  3  4]\n"
     ]
    }
   ],
   "source": [
    "arr = np.array(np.arange(0, 10))\n",
    "\n",
    "condition1 = arr < 3\n",
    "condition2 = np.less(arr, 3)\n",
    "\n",
    "print(condition1, condition2)\n",
    "\n",
    "condition3 = np.logical_and(arr < 3, arr > 8)\n",
    "\n",
    "print(condition3)\n",
    "\n",
    "answer = np.where(condition3, arr*5, arr-5)\n",
    "\n",
    "print(answer)"
   ]
  },
  {
   "cell_type": "markdown",
   "metadata": {
    "collapsed": false,
    "jupyter": {
     "outputs_hidden": false
    }
   },
   "source": [
    "### Let's implement a mathematical function that works on arrays.\n",
    "\n",
    "Write a function that takes a 2-D array of horizontal zonal (east-west) wind components (`u`, in m/s) and a 2-D array of horizontal meridional (north-south) wind componenets (`v`, in m/s)\n",
    "and returns an array of the magnitudes of the total wind.\n",
    "Include a test for the overall magnitude: if it is less than 0.1 then set it equal to 0.1 (We might presume this particular domain has no non-zero winds and that only winds above 0.1 m/s constitute \"good\" data while those below are indistinguishable from the minimum due to noise)\n",
    "\n",
    "The return value should be an array of the same shape and type as the input arrays. The magnitude of the wind can be calculated as the square root of the sum of the squares of the `u` and `v` winds.\n",
    "\n",
    "- Test your function on `u = [[4, 5, 6], [2, 3, 4]]` and `v = [[2, 2, 2], [1, 1, 1]]` values.\n",
    "- Test your function on `u = [[4, 5, 0.01], [2, 3, 4]]` and `v = [[2, 2, 0.03], [1, 1, 1]]` values. Does your default minimum magnitude get used?"
   ]
  },
  {
   "cell_type": "code",
   "execution_count": 77,
   "metadata": {
    "collapsed": false,
    "jupyter": {
     "outputs_hidden": false
    },
    "pycharm": {
     "name": "#%%\n"
    }
   },
   "outputs": [],
   "source": [
    "def calc_magnitude(u, v):\n",
    "    total_wind = np.sqrt(np.multiply(u, u) + np.multiply(v, v))\n",
    "\n",
    "    condition = np.less(total_wind, 0.1)\n",
    "    corrected_wind = np.where(condition, 0.1, total_wind)\n",
    "\n",
    "    return corrected_wind"
   ]
  },
  {
   "cell_type": "code",
   "execution_count": 78,
   "metadata": {},
   "outputs": [],
   "source": [
    "u = [[4, 5, 6], [2, 3, 4]]\n",
    "v = [[2, 2, 2], [1, 1, 1]]"
   ]
  },
  {
   "cell_type": "code",
   "execution_count": 79,
   "metadata": {},
   "outputs": [
    {
     "data": {
      "text/plain": [
       "array([[4.47213595, 5.38516481, 6.32455532],\n",
       "       [2.23606798, 3.16227766, 4.12310563]])"
      ]
     },
     "execution_count": 79,
     "metadata": {},
     "output_type": "execute_result"
    }
   ],
   "source": [
    "calc_magnitude(u, v)"
   ]
  },
  {
   "cell_type": "code",
   "execution_count": 80,
   "metadata": {},
   "outputs": [
    {
     "data": {
      "text/plain": [
       "array([[4.47213595, 5.38516481, 0.1       ],\n",
       "       [2.23606798, 3.16227766, 4.12310563]])"
      ]
     },
     "execution_count": 80,
     "metadata": {},
     "output_type": "execute_result"
    }
   ],
   "source": [
    "u2 = [[4, 5, 0.01], [2, 3, 4]] \n",
    "v2 = [[2, 2, 0.03], [1, 1, 1]]\n",
    "\n",
    "calc_magnitude(u2, v2)"
   ]
  },
  {
   "cell_type": "markdown",
   "metadata": {
    "collapsed": false,
    "jupyter": {
     "outputs_hidden": false
    }
   },
   "source": [
    "## 4. Working with missing values\n",
    "\n",
    "### Aim: An introduction to masked arrays to represent missing values\n",
    "\n",
    "Issues covered:\n",
    "\n",
    "- Creating a masked array\n",
    "- Masking certain values in an array\n",
    "- Using the `masked_where` function to create a masked array\n",
    "- Applying a mask to an existing array\n",
    "- Performing calculation with masked arrays\n",
    "\n",
    "### Let's create a masked array and play with it\n",
    "\n",
    "Import the `numpy.ma` module as `MA`"
   ]
  },
  {
   "cell_type": "code",
   "execution_count": 63,
   "metadata": {
    "collapsed": false,
    "jupyter": {
     "outputs_hidden": false
    },
    "pycharm": {
     "name": "#%%\n"
    }
   },
   "outputs": [],
   "source": [
    "import numpy.ma as MA"
   ]
  },
  {
   "cell_type": "markdown",
   "metadata": {
    "collapsed": false,
    "jupyter": {
     "outputs_hidden": false
    }
   },
   "source": [
    "Create a masked array from a list of values (0 to 9) with a `fill_value` of -999 and assign it to the variable `marr`\n",
    "\n",
    "- Print the array to view its values. Print the `fill_value` attribute.\n",
    "- Mask the third value in the array using `MA.masked`, print the array to view how it has changed.\n",
    "- Print the mask associated with the array (i.e. `marr.mask`)"
   ]
  },
  {
   "cell_type": "code",
   "execution_count": 86,
   "metadata": {
    "collapsed": false,
    "jupyter": {
     "outputs_hidden": false
    },
    "pycharm": {
     "name": "#%%\n"
    }
   },
   "outputs": [
    {
     "name": "stdout",
     "output_type": "stream",
     "text": [
      "[0 1 2 3 4 5 6 7 8 9] -999\n",
      "[0 1 -- 3 4 5 6 7 8 9]\n",
      "[False False  True False False False False False False False]\n"
     ]
    }
   ],
   "source": [
    "data = np.array(np.arange(0, 10))\n",
    "marr = MA.masked_array(data, fill_value =-999)\n",
    "print(marr, marr.fill_value)\n",
    "\n",
    "marr[2] = MA.masked\n",
    "\n",
    "print(marr)\n",
    "print(marr.mask)"
   ]
  },
  {
   "cell_type": "markdown",
   "metadata": {
    "collapsed": false,
    "jupyter": {
     "outputs_hidden": false
    }
   },
   "source": [
    "Create a new masked array called `narr` that is equal to `marr` where `marr` is less than 7 and masked otherwise.\n",
    "\n",
    "- Print the array to view its values.\n",
    "- Print its missing value (i.e. `narr.fill_value`)\n",
    "- Print an array that converts `narr` so that the missing values are represented by the missing value (i.e. `MA.filled`). Assign it to `farr`\n",
    "- What is the type of the `farr`"
   ]
  },
  {
   "cell_type": "code",
   "execution_count": 97,
   "metadata": {
    "collapsed": false,
    "jupyter": {
     "outputs_hidden": false
    },
    "pycharm": {
     "name": "#%%\n"
    }
   },
   "outputs": [
    {
     "name": "stdout",
     "output_type": "stream",
     "text": [
      "[   0    1 -999    3    4    5    6    7 -999 -999]\n"
     ]
    }
   ],
   "source": [
    "narr = MA.masked_greater(marr, 7)\n",
    "\n",
    "farr = MA.filled(narr, fill_value = narr.fill_value)\n",
    "print(farr)"
   ]
  },
  {
   "cell_type": "markdown",
   "metadata": {
    "collapsed": false,
    "jupyter": {
     "outputs_hidden": false
    }
   },
   "source": [
    "### Let's create a masked array based on a condition.\n",
    "\n",
    "- Create a masked array of values 1 to 8 and assign it to the variable `m1`, print `m1`\n",
    "- Re-shape the array to the shape `(2, 4)` and assign it to the variable `m2`, print `m2`\n",
    "- Mask values of `m2` greater than 6 and assign the result to the variable `m3`, print `m3`\n",
    "- Print `m3` multiplied by 100\n",
    "- Subtract `m3` by a normal numpy array of `ones` that is the same shape as `m3` and assign it to the variable `m4`, print `m4`\n",
    "- Is `m4` a normal array or masked array?"
   ]
  },
  {
   "cell_type": "code",
   "execution_count": 108,
   "metadata": {
    "collapsed": false,
    "jupyter": {
     "outputs_hidden": false
    },
    "pycharm": {
     "name": "#%%\n"
    }
   },
   "outputs": [
    {
     "name": "stdout",
     "output_type": "stream",
     "text": [
      "[1 2 3 4 5 6 7 8]\n",
      "[[1 2 3 4]\n",
      " [5 6 7 8]]\n",
      "[[1 2 3 4]\n",
      " [5 6 -- --]]\n",
      "[[100 200 300 400]\n",
      " [500 600 -- --]]\n",
      "[[0.0 1.0 2.0 3.0]\n",
      " [4.0 5.0 -- --]]\n"
     ]
    }
   ],
   "source": [
    "m1 = MA.masked_array(data = np.array(np.arange(1, 9)))\n",
    "print(m1)\n",
    "\n",
    "m2 = np.reshape(m1, (2, 4))\n",
    "print(m2)\n",
    "\n",
    "m3 = MA.masked_greater(m2, 6)\n",
    "print(m3)\n",
    "print(np.multiply(m3, 100))\n",
    "\n",
    "m4 = m3 - (np.ones((2, 4)))\n",
    "print(m4)\n"
   ]
  },
  {
   "cell_type": "code",
   "execution_count": null,
   "metadata": {},
   "outputs": [],
   "source": []
  }
 ],
 "metadata": {
  "kernelspec": {
   "display_name": "Python 3 + Jaspy",
   "language": "python",
   "name": "jaspy"
  },
  "language_info": {
   "codemirror_mode": {
    "name": "ipython",
    "version": 3
   },
   "file_extension": ".py",
   "mimetype": "text/x-python",
   "name": "python",
   "nbconvert_exporter": "python",
   "pygments_lexer": "ipython3",
   "version": "3.10.5"
  }
 },
 "nbformat": 4,
 "nbformat_minor": 4
}
